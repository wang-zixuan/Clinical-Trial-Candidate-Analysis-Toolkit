{
 "cells": [
  {
   "cell_type": "markdown",
   "metadata": {},
   "source": [
    "## Turmerik ML Take Home Assignment: Sentiment Analysis and Personalized Messaging for Clinical Trial Recruitment\n",
    "### Objective\n",
    "The objective of this project is to ethically scrape and analyze Reddit web data, utilize sentiment analysis, and leverage AI to personalize communication. In this project, we will focus on identifying potential participants for a clinical trial by analyzing sentiments expressed on his/her posts."
   ]
  },
  {
   "cell_type": "markdown",
   "metadata": {},
   "source": [
    "### Part 1: Setup and Requirements\n",
    "\n",
    "PRAW is \"Python Reddit API Wrapper\", a Python package that allows for simple access to Reddit's API. \n",
    "\n",
    "To ensure compliance with Reddit's API terms of use and respecting user privacy and data use policies, several important aspects will be involved:\n",
    "\n",
    "- Adhering to API terms of use such as rate limits, proper use, and content handling.\n",
    "- Respecting user privacy by collecting only the data I need for my application.\n",
    "- Following data use policies by being cautious when dealing with sensitive or personally identifiable information.\n",
    "\n",
    "In this project, I commit to using only publicly available data sourced from Reddit. "
   ]
  },
  {
   "cell_type": "code",
   "execution_count": 53,
   "metadata": {},
   "outputs": [
    {
     "name": "stdout",
     "output_type": "stream",
     "text": [
      "Requirement already satisfied: praw in /Users/zixuanwang/opt/anaconda3/lib/python3.7/site-packages (7.7.1)\n",
      "Requirement already satisfied: prawcore<3,>=2.1 in /Users/zixuanwang/opt/anaconda3/lib/python3.7/site-packages (from praw) (2.3.0)\n",
      "Requirement already satisfied: update-checker>=0.18 in /Users/zixuanwang/opt/anaconda3/lib/python3.7/site-packages (from praw) (0.18.0)\n",
      "Requirement already satisfied: websocket-client>=0.54.0 in /Users/zixuanwang/opt/anaconda3/lib/python3.7/site-packages (from praw) (1.6.1)\n",
      "Requirement already satisfied: requests<3.0,>=2.6.0 in /Users/zixuanwang/opt/anaconda3/lib/python3.7/site-packages (from prawcore<3,>=2.1->praw) (2.31.0)\n",
      "Requirement already satisfied: charset-normalizer<4,>=2 in /Users/zixuanwang/opt/anaconda3/lib/python3.7/site-packages (from requests<3.0,>=2.6.0->prawcore<3,>=2.1->praw) (3.3.2)\n",
      "Requirement already satisfied: idna<4,>=2.5 in /Users/zixuanwang/opt/anaconda3/lib/python3.7/site-packages (from requests<3.0,>=2.6.0->prawcore<3,>=2.1->praw) (2.8)\n",
      "Requirement already satisfied: urllib3<3,>=1.21.1 in /Users/zixuanwang/opt/anaconda3/lib/python3.7/site-packages (from requests<3.0,>=2.6.0->prawcore<3,>=2.1->praw) (1.24.2)\n",
      "Requirement already satisfied: certifi>=2017.4.17 in /Users/zixuanwang/opt/anaconda3/lib/python3.7/site-packages (from requests<3.0,>=2.6.0->prawcore<3,>=2.1->praw) (2020.11.8)\n",
      "\n",
      "\u001b[1m[\u001b[0m\u001b[34;49mnotice\u001b[0m\u001b[1;39;49m]\u001b[0m\u001b[39;49m A new release of pip is available: \u001b[0m\u001b[31;49m23.3.1\u001b[0m\u001b[39;49m -> \u001b[0m\u001b[32;49m24.0\u001b[0m\n",
      "\u001b[1m[\u001b[0m\u001b[34;49mnotice\u001b[0m\u001b[1;39;49m]\u001b[0m\u001b[39;49m To update, run: \u001b[0m\u001b[32;49mpip install --upgrade pip\u001b[0m\n"
     ]
    }
   ],
   "source": [
    "!pip install praw"
   ]
  },
  {
   "cell_type": "code",
   "execution_count": 42,
   "metadata": {},
   "outputs": [],
   "source": [
    "import praw"
   ]
  },
  {
   "cell_type": "markdown",
   "metadata": {},
   "source": [
    "### Part 2: Project Overview\n",
    "#### 2.1: **Data Collection** - Develop a script to scrape Reddit posts and comments from specific subreddits related to health conditions relevant to the clinical trial.\n",
    "\n",
    "PRAW requires creating and configuring a Reddit application in the Reddit account for authentication purposes, which involves obtaining a client ID, client secret, and user name. It can be done by visiting https://www.reddit.com/prefs/apps."
   ]
  },
  {
   "cell_type": "code",
   "execution_count": 43,
   "metadata": {},
   "outputs": [
    {
     "name": "stdout",
     "output_type": "stream",
     "text": [
      "96\n"
     ]
    }
   ],
   "source": [
    "client_id = ''\n",
    "client_secret = ''\n",
    "user_agent = 'script:reddit_scraper:v1.0 (by /u/)'\n",
    "\n",
    "# Instantiation of the PRAW Reddit\n",
    "reddit = praw.Reddit(client_id=client_id,\n",
    "                     client_secret=client_secret,\n",
    "                     user_agent=user_agent)\n",
    "\n",
    "# Define the subreddits to scrape\n",
    "subreddits = ['health', 'clinicaltrials', 'clinicalresearch', 'medicine']\n",
    "\n",
    "keywords = ['diabetes', 'hypertension', 'insulin', 'blood pressure', 'clinical trial', 'treatment', 'side effects']\n",
    "\n",
    "def contains_keyword(text):\n",
    "    return any(keyword.lower() in text.lower() for keyword in keywords)\n",
    "\n",
    "# function for scraping posts and comments from the specified subreddits\n",
    "def scrape_reddit(subreddits, limit=200):\n",
    "    data = []\n",
    "    for subreddit in subreddits:\n",
    "        subreddit_instance = reddit.subreddit(subreddit)\n",
    "        for submission in subreddit_instance.hot(limit=limit):\n",
    "            if not contains_keyword(submission.title) and not contains_keyword(submission.selftext):\n",
    "                continue\n",
    "            submission_data = {\n",
    "                'title': submission.title,\n",
    "                'selftext': submission.selftext,\n",
    "                'comments': []\n",
    "            }\n",
    "            submission.comments.replace_more(limit=0)\n",
    "            for comment in submission.comments.list():\n",
    "                if not contains_keyword(comment.body):\n",
    "                    continue\n",
    "                submission_data['comments'].append(comment.body)\n",
    "            data.append(submission_data)\n",
    "    return data\n",
    "\n",
    "scraped_data = scrape_reddit(subreddits)\n",
    "print(len(scraped_data))"
   ]
  },
  {
   "cell_type": "code",
   "execution_count": 44,
   "metadata": {},
   "outputs": [
    {
     "data": {
      "text/plain": [
       "dict_keys(['title', 'selftext', 'comments'])"
      ]
     },
     "execution_count": 44,
     "metadata": {},
     "output_type": "execute_result"
    }
   ],
   "source": [
    "scraped_data[0].keys()"
   ]
  },
  {
   "cell_type": "markdown",
   "metadata": {},
   "source": [
    "#### 2.2: **Sentiment Analysis** - Perform sentiment analysis on the scraped data to determine the general attitude and interest levels regarding clinical trials.\n",
    "\n",
    "There are many Python packages for natural language processing and sentiment analysis, including NLTK (Natural Language Toolkit), TextBlob, and Transformers. In this project, I choose to use NLTK, which is a comprehensive library with tools for various natural language processing tasks including sentiment analysis. It includes pre-trained models. VADER (Valence Aware Dictionary and sEntiment Reasoner) is included in the NLTK library and is particularly good for sentiments expressed in social media. "
   ]
  },
  {
   "cell_type": "code",
   "execution_count": 54,
   "metadata": {},
   "outputs": [
    {
     "name": "stdout",
     "output_type": "stream",
     "text": [
      "Requirement already satisfied: nltk in /Users/zixuanwang/opt/anaconda3/lib/python3.7/site-packages (3.4.5)\n",
      "Requirement already satisfied: six in /Users/zixuanwang/opt/anaconda3/lib/python3.7/site-packages (from nltk) (1.12.0)\n",
      "\n",
      "\u001b[1m[\u001b[0m\u001b[34;49mnotice\u001b[0m\u001b[1;39;49m]\u001b[0m\u001b[39;49m A new release of pip is available: \u001b[0m\u001b[31;49m23.3.1\u001b[0m\u001b[39;49m -> \u001b[0m\u001b[32;49m24.0\u001b[0m\n",
      "\u001b[1m[\u001b[0m\u001b[34;49mnotice\u001b[0m\u001b[1;39;49m]\u001b[0m\u001b[39;49m To update, run: \u001b[0m\u001b[32;49mpip install --upgrade pip\u001b[0m\n"
     ]
    }
   ],
   "source": [
    "!pip install nltk"
   ]
  },
  {
   "cell_type": "code",
   "execution_count": 45,
   "metadata": {},
   "outputs": [
    {
     "name": "stderr",
     "output_type": "stream",
     "text": [
      "[nltk_data] Downloading package vader_lexicon to\n",
      "[nltk_data]     /Users/zixuanwang/nltk_data...\n",
      "[nltk_data]   Package vader_lexicon is already up-to-date!\n"
     ]
    },
    {
     "data": {
      "text/plain": [
       "True"
      ]
     },
     "execution_count": 45,
     "metadata": {},
     "output_type": "execute_result"
    }
   ],
   "source": [
    "import nltk\n",
    "from nltk.sentiment import SentimentIntensityAnalyzer\n",
    "nltk.download('vader_lexicon')"
   ]
  },
  {
   "cell_type": "markdown",
   "metadata": {},
   "source": [
    "Instantiate an analyzer"
   ]
  },
  {
   "cell_type": "code",
   "execution_count": 46,
   "metadata": {},
   "outputs": [],
   "source": [
    "sia = SentimentIntensityAnalyzer()\n",
    "\n",
    "for data in scraped_data:\n",
    "    data['title_sentiment'] = sia.polarity_scores(data['title'])\n",
    "    data['comments_sentiment'] = [sia.polarity_scores(comment) for comment in data['comments']]"
   ]
  },
  {
   "cell_type": "markdown",
   "metadata": {},
   "source": [
    "Compute the average compound value (range: [-1, 1]) of all data"
   ]
  },
  {
   "cell_type": "code",
   "execution_count": 47,
   "metadata": {},
   "outputs": [
    {
     "name": "stdout",
     "output_type": "stream",
     "text": [
      "0.10009586776859504\n"
     ]
    }
   ],
   "source": [
    "total_compound = 0\n",
    "count = 0\n",
    "\n",
    "for data in scraped_data:\n",
    "    total_compound += data['title_sentiment']['compound']\n",
    "    count += 1\n",
    "    for comment_sentiment in data['comments_sentiment']:\n",
    "        total_compound += comment_sentiment['compound']\n",
    "        count += 1\n",
    "\n",
    "average_compound = total_compound / count\n",
    "print(average_compound)"
   ]
  },
  {
   "cell_type": "markdown",
   "metadata": {},
   "source": [
    "Find the maximum value in data"
   ]
  },
  {
   "cell_type": "code",
   "execution_count": 48,
   "metadata": {},
   "outputs": [
    {
     "name": "stdout",
     "output_type": "stream",
     "text": [
      "0.8176\n"
     ]
    }
   ],
   "source": [
    "for data in scraped_data: \n",
    "    max_compound = max(data['title_sentiment']['compound'] for data in scraped_data)\n",
    "\n",
    "print(max_compound)"
   ]
  },
  {
   "cell_type": "markdown",
   "metadata": {},
   "source": [
    "Get positive sentiment data by setting the threshold to be 0.3"
   ]
  },
  {
   "cell_type": "code",
   "execution_count": 49,
   "metadata": {},
   "outputs": [
    {
     "name": "stdout",
     "output_type": "stream",
     "text": [
      "24\n"
     ]
    }
   ],
   "source": [
    "positive_sentiment_data = [i for i in range(len(scraped_data)) if scraped_data[i]['title_sentiment']['compound'] > 0.3]\n",
    "\n",
    "print(len(positive_sentiment_data))"
   ]
  },
  {
   "cell_type": "markdown",
   "metadata": {},
   "source": [
    "#### 2.3: **Message Generation** - Use the OpenAI API to generate personalized messages aimed at users who express interest in or could potentially benefit from participating in a clinical trial."
   ]
  },
  {
   "cell_type": "markdown",
   "metadata": {},
   "source": [
    "Set up an API key"
   ]
  },
  {
   "cell_type": "code",
   "execution_count": 56,
   "metadata": {},
   "outputs": [
    {
     "name": "stdout",
     "output_type": "stream",
     "text": [
      "Requirement already satisfied: openai in /Users/zixuanwang/opt/anaconda3/lib/python3.7/site-packages (1.39.0)\n",
      "Requirement already satisfied: anyio<5,>=3.5.0 in /Users/zixuanwang/opt/anaconda3/lib/python3.7/site-packages (from openai) (3.7.1)\n",
      "Requirement already satisfied: cached-property in /Users/zixuanwang/opt/anaconda3/lib/python3.7/site-packages (from openai) (1.5.2)\n",
      "Requirement already satisfied: distro<2,>=1.7.0 in /Users/zixuanwang/opt/anaconda3/lib/python3.7/site-packages (from openai) (1.9.0)\n",
      "Requirement already satisfied: httpx<1,>=0.23.0 in /Users/zixuanwang/opt/anaconda3/lib/python3.7/site-packages (from openai) (0.24.1)\n",
      "Requirement already satisfied: pydantic<3,>=1.9.0 in /Users/zixuanwang/opt/anaconda3/lib/python3.7/site-packages (from openai) (2.5.3)\n",
      "Requirement already satisfied: sniffio in /Users/zixuanwang/opt/anaconda3/lib/python3.7/site-packages (from openai) (1.3.1)\n",
      "Requirement already satisfied: tqdm>4 in /Users/zixuanwang/opt/anaconda3/lib/python3.7/site-packages (from openai) (4.36.1)\n",
      "Requirement already satisfied: typing-extensions<5,>=4.7 in /Users/zixuanwang/opt/anaconda3/lib/python3.7/site-packages (from openai) (4.7.1)\n",
      "Requirement already satisfied: idna>=2.8 in /Users/zixuanwang/opt/anaconda3/lib/python3.7/site-packages (from anyio<5,>=3.5.0->openai) (2.8)\n",
      "Requirement already satisfied: exceptiongroup in /Users/zixuanwang/opt/anaconda3/lib/python3.7/site-packages (from anyio<5,>=3.5.0->openai) (1.2.2)\n",
      "Requirement already satisfied: certifi in /Users/zixuanwang/opt/anaconda3/lib/python3.7/site-packages (from httpx<1,>=0.23.0->openai) (2020.11.8)\n",
      "Requirement already satisfied: httpcore<0.18.0,>=0.15.0 in /Users/zixuanwang/opt/anaconda3/lib/python3.7/site-packages (from httpx<1,>=0.23.0->openai) (0.17.3)\n",
      "Requirement already satisfied: annotated-types>=0.4.0 in /Users/zixuanwang/opt/anaconda3/lib/python3.7/site-packages (from pydantic<3,>=1.9.0->openai) (0.5.0)\n",
      "Requirement already satisfied: importlib-metadata in /Users/zixuanwang/opt/anaconda3/lib/python3.7/site-packages (from pydantic<3,>=1.9.0->openai) (6.7.0)\n",
      "Requirement already satisfied: pydantic-core==2.14.6 in /Users/zixuanwang/opt/anaconda3/lib/python3.7/site-packages (from pydantic<3,>=1.9.0->openai) (2.14.6)\n",
      "Requirement already satisfied: h11<0.15,>=0.13 in /Users/zixuanwang/opt/anaconda3/lib/python3.7/site-packages (from httpcore<0.18.0,>=0.15.0->httpx<1,>=0.23.0->openai) (0.14.0)\n",
      "Requirement already satisfied: zipp>=0.5 in /Users/zixuanwang/opt/anaconda3/lib/python3.7/site-packages (from importlib-metadata->pydantic<3,>=1.9.0->openai) (0.6.0)\n",
      "Requirement already satisfied: more-itertools in /Users/zixuanwang/opt/anaconda3/lib/python3.7/site-packages (from zipp>=0.5->importlib-metadata->pydantic<3,>=1.9.0->openai) (7.2.0)\n",
      "\n",
      "\u001b[1m[\u001b[0m\u001b[34;49mnotice\u001b[0m\u001b[1;39;49m]\u001b[0m\u001b[39;49m A new release of pip is available: \u001b[0m\u001b[31;49m23.3.1\u001b[0m\u001b[39;49m -> \u001b[0m\u001b[32;49m24.0\u001b[0m\n",
      "\u001b[1m[\u001b[0m\u001b[34;49mnotice\u001b[0m\u001b[1;39;49m]\u001b[0m\u001b[39;49m To update, run: \u001b[0m\u001b[32;49mpip install --upgrade pip\u001b[0m\n"
     ]
    }
   ],
   "source": [
    "!pip install openai"
   ]
  },
  {
   "cell_type": "code",
   "execution_count": 50,
   "metadata": {},
   "outputs": [],
   "source": [
    "import openai\n",
    "from openai import OpenAI\n",
    "\n",
    "client = OpenAI(\n",
    "    api_key=''\n",
    ")"
   ]
  },
  {
   "cell_type": "markdown",
   "metadata": {},
   "source": [
    "Generate personalized message using OpenAI API"
   ]
  },
  {
   "cell_type": "code",
   "execution_count": 51,
   "metadata": {},
   "outputs": [],
   "source": [
    "def generate_message_from_title(title):\n",
    "    messages = [\n",
    "        {\"role\": \"system\", \"content\": \"You are an assistant that generates personalized, supportive, and informative messages related to clinical trial participation.\"},\n",
    "        {\"role\": \"user\", \"content\": f\"Create a personalized message for a user who might be interested in a clinical trial. The title of the information is: '{title}'. Ensure the message is encouraging and highlights potential benefits in a clear and sensitive manner. Please complete the response within the given token limit.\"}\n",
    "    ]\n",
    "    \n",
    "    response = client.chat.completions.create(\n",
    "        model=\"gpt-3.5-turbo\",\n",
    "        messages=messages,\n",
    "        max_tokens=200\n",
    "    )\n",
    "\n",
    "    return response.choices[0].message.content\n",
    "\n",
    "messages = []\n",
    "\n",
    "for i in positive_sentiment_data:\n",
    "    title = scraped_data[i]['title']\n",
    "    message = generate_message_from_title(title)\n",
    "    messages.append(message)"
   ]
  },
  {
   "cell_type": "markdown",
   "metadata": {},
   "source": [
    "Post processing of messages"
   ]
  },
  {
   "cell_type": "code",
   "execution_count": 52,
   "metadata": {},
   "outputs": [
    {
     "name": "stdout",
     "output_type": "stream",
     "text": [
      "Title: \n",
      "\tNew treatment can help those with OCD, \n",
      "message: \n",
      "\tSubject: Exciting Opportunity to Explore New OCD Treatment in a Clinical Trial\n",
      "\n",
      "Dear [User],\n",
      "\n",
      "I hope this message finds you well. I wanted to share some encouraging news with you - a new treatment is being researched that holds promising results for individuals struggling with OCD. By participating in a clinical trial for this innovative therapy, you could be at the forefront of potentially life-changing advancements in mental health care.\n",
      "\n",
      "Clinical trials provide a unique opportunity to access cutting-edge treatments under expert supervision, offering you a chance to explore alternative options that may significantly improve your quality of life. Your participation not only benefits you directly but also contributes to the larger scientific community working towards enhancing treatment options for individuals with OCD.\n",
      "\n",
      "If you are interested in learning more about this clinical trial and how it could positively impact your journey towards managing OCD, please feel free to reach out to us. Your potential involvement could make a meaningful difference not only for yourself but for others facing similar challenges.\n",
      "\n",
      "Take the first step towards a brighter tomorrow by considering participation in\n",
      "\n",
      "\n",
      "Title: \n",
      "\tWebinar Tomorrow: Hear how experiential data and feedback from the patient's point of view can shape the future of clinical trials in a free 15-minute FLASH webinar 11/2 at 12pm EST., \n",
      "message: \n",
      "\t🌟 **Exciting News!** 🌟\n",
      "\n",
      "Dear [User],\n",
      "\n",
      "I wanted to share a valuable opportunity with you - a free 15-minute FLASH webinar happening tomorrow at 12pm EST. The event will focus on how experiential data and patient feedback can revolutionize clinical trials.\n",
      "\n",
      "Your voice matters in shaping the future of healthcare, and this webinar will showcase the crucial role patients play in clinical research. Join us to learn more about the impact of your insights on improving medical treatments.\n",
      "\n",
      "Don't miss this chance to be a part of this transformative conversation. Your participation can lead to positive changes in the way clinical trials are conducted, ultimately benefiting patients worldwide. \n",
      "\n",
      "Mark your calendar for tomorrow's webinar and be part of this important discussion. We look forward to having you join us!\n",
      "\n",
      "Warm regards,  \n",
      "[Your Name]\n",
      "\n",
      "\n",
      "Title: \n",
      "\tHear from Jane Myles, Vice President of Clinical Trial Innovation at Curebase in an upcoming FLASH webinar, July 13th. The first of a 3-part series, this webinar will focus on how patient data is collected in clinical trials. Register today., \n",
      "message: \n",
      "\tHello [User], \n",
      "\n",
      "I wanted to share an exciting opportunity with you! Join us on July 13th for an enlightening webinar with Jane Myles, Vice President of Clinical Trial Innovation at Curebase. This is the first part of a 3-part series, focusing on the crucial topic of how patient data is collected in clinical trials. Your participation can help shape the future of patient-centered research and potentially pave the way for groundbreaking treatments. Register today to learn more and be a part of this important conversation. Your voice matters. \n",
      "\n",
      "Warm regards.\n",
      "\n",
      "\n",
      "Title: \n",
      "\t59 Recently Updated Clinical Trials - actively recruiting healthy volunteers as of 2021-07-30, \n",
      "message: \n",
      "\tDear [User],\n",
      "\n",
      "I wanted to share with you that there are 59 recently updated clinical trials actively seeking healthy volunteers as of July 30, 2021. Participating in a clinical trial not only gives you the opportunity to contribute to medical research but also offers you access to potential new treatments or interventions. Your participation could make a significant impact on improving healthcare for future generations. If you are considering getting involved, feel free to reach out for more information.\n",
      "\n",
      "Take care and stay healthy!\n",
      "\n",
      "Warm regards,\n",
      "[Your Name]\n",
      "\n",
      "\n",
      "Title: \n",
      "\t111 Recently Updated Clinical Trials - actively recruiting healthy volunteers as of 2021-07-29, \n",
      "message: \n",
      "\tHello there! It's great to hear that you might be considering participating in a clinical trial. There are currently 111 recently updated clinical trials actively recruiting healthy volunteers as of July 29, 2021. By joining a clinical trial, you have the opportunity to contribute to scientific advancements and potentially access cutting-edge treatments before they are widely available. Your participation can make a significant impact on improving healthcare for future generations. If you're interested in learning more about these trials and how you can get involved, feel free to reach out for further information. Your willingness to participate is truly commendable, and your contribution could help shape the future of medicine.\n",
      "\n",
      "\n",
      "Title: \n",
      "\t102 Recently Updated Clinical Trials - actively recruiting healthy volunteers as of 2021-07-28, \n",
      "message: \n",
      "\tHello [Name],\n",
      "\n",
      "I'm excited to share that there are 102 recently updated clinical trials actively seeking healthy volunteers like yourself as of 2021-07-28. Participating in a clinical trial not only offers you the opportunity to contribute to medical advancements but also provides access to cutting-edge treatments before they are widely available. Your participation can make a real difference in the lives of many people. If you're interested in learning more about these trials and how you can get involved, feel free to reach out for more information.\n",
      "\n",
      "Take care and stay well!\n",
      "\n",
      "\n",
      "Title: \n",
      "\t120 Recently Updated Clinical Trials - actively recruiting healthy volunteers as of 2021-07-27, \n",
      "message: \n",
      "\tHello! I wanted to share some exciting news with you - there are 120 clinical trials actively looking for healthy volunteers as of today, 2021-07-27. Participating in a clinical trial can not only contribute to advancing medical research but also offer you the opportunity to access cutting-edge treatments before they become widely available. Your participation could make a real difference in improving healthcare for everyone. If you're interested in learning more or exploring these opportunities further, feel free to reach out. Your involvement could be a significant step towards a healthier future for both you and others.\n",
      "\n",
      "\n",
      "Title: \n",
      "\t136 Recently Updated Clinical Trials - actively recruiting healthy volunteers as of 2021-07-24, \n",
      "message: \n",
      "\tDear [User],\n",
      "\n",
      "I hope this message finds you well. I wanted to share some exciting news with you - there are currently 136 recently updated clinical trials actively recruiting healthy volunteers as of 2021-07-24. Participating in a clinical trial not only gives you the opportunity to contribute to scientific advancements but also allows you to potentially access cutting-edge treatments before they are widely available.\n",
      "\n",
      "Your involvement could make a significant impact on research and the development of new medical solutions. It's a chance to be part of something meaningful and transformative. If you're interested in learning more about these trials and how you can participate, feel free to reach out or explore further.\n",
      "\n",
      "Remember, your participation matters, and you have the potential to positively impact the future of healthcare. Take this opportunity to be a part of groundbreaking research and make a difference in the lives of many.\n",
      "\n",
      "Stay curious and open to new possibilities!\n",
      "\n",
      "Warm regards, \n",
      "[Your Name]\n",
      "\n",
      "\n",
      "Title: \n",
      "\t74 Recently Updated Clinical Trials - actively recruiting healthy volunteers as of 2021-07-23, \n",
      "message: \n",
      "\tHello! I wanted to share some exciting news with you. There are currently 74 recently updated clinical trials actively looking for healthy volunteers like you to participate. By joining a clinical trial, you have the opportunity to contribute to important medical research while also gaining access to cutting-edge treatments before they are widely available. Your participation could make a real difference in advancing healthcare for everyone. If you're interested in learning more or potentially participating, feel free to reach out for further information. Your contribution could lead to valuable advancements in medicine.\n",
      "\n",
      "\n",
      "Title: \n",
      "\t87 Recently Updated Clinical Trials - actively recruiting healthy volunteers as of 2021-07-22, \n",
      "message: \n",
      "\tHello there! I wanted to share some exciting news with you. There are 87 recently updated clinical trials actively recruiting healthy volunteers as of 2021-07-22. Participating in a clinical trial not only allows you to contribute to cutting-edge research but also gives you access to potential new treatments before they are widely available. Your participation can make a significant difference in the advancement of healthcare. If you're interested in being part of these innovative studies, feel free to explore the opportunities available. Your involvement could help shape the future of medicine. Take care!\n",
      "\n",
      "\n",
      "Title: \n",
      "\t100 Recently Updated Clinical Trials - actively recruiting healthy volunteers as of 2021-07-21, \n",
      "message: \n",
      "\tHello there! I wanted to share some exciting news with you. There are 100 recently updated clinical trials actively looking for healthy volunteers like you to participate as of 2021-07-21. Participating in a clinical trial not only allows you to contribute to important medical research but can also provide you with access to potential new treatments, expert medical care, and close monitoring of your health. Your involvement could make a significant impact on the future of healthcare. Take this opportunity to explore and consider joining a clinical trial today! Your participation truly matters.\n",
      "\n",
      "\n",
      "Title: \n",
      "\t54 Recently Updated Clinical Trials - actively recruiting healthy volunteers as of 2021-07-20, \n",
      "message: \n",
      "\tHello there! I wanted to share some exciting news with you - there are 54 recently updated clinical trials actively recruiting healthy volunteers as of 2021-07-20. Participating in a clinical trial can be a rewarding experience where you not only contribute to advancing medical research but also gain access to cutting-edge treatments and potential health benefits. If you're interested in making a positive impact on healthcare while potentially benefiting from innovative treatments, why not consider exploring these opportunities? Your willingness to participate could make a significant difference. Feel free to reach out if you have any questions or need more information. Your health matters, and your involvement could be a vital contribution.\n",
      "\n",
      "\n",
      "Title: \n",
      "\t59 Recently Updated Clinical Trials - actively recruiting healthy volunteers as of 2021-07-17, \n",
      "message: \n",
      "\tHello there! I wanted to share some exciting news with you - there are 59 recently updated clinical trials actively recruiting healthy volunteers as of 2021-07-17. Participating in a clinical trial can not only contribute to advancing medical research but also provide you with the opportunity to potentially receive cutting-edge treatments or therapies. Your involvement could make a significant impact on the future of healthcare. If you're interested in being part of this important journey, consider exploring these trials further. Your willingness to participate can help shape a brighter tomorrow for all of us.\n",
      "\n",
      "\n",
      "Title: \n",
      "\t122 Recently Updated Clinical Trials - actively recruiting healthy volunteers as of 2021-07-16, \n",
      "message: \n",
      "\tI wanted to share with you that there are 122 recently updated clinical trials actively recruiting healthy volunteers as of 2021-07-16. Participating in a clinical trial can not only contribute to medical research but also provide you with the opportunity to potentially access cutting-edge treatments and healthcare advancements. Your involvement could make a significant impact on the future of healthcare. If you're interested in learning more about these opportunities, feel free to reach out or visit the clinical trial database for more details. Your participation could truly make a difference.\n",
      "\n",
      "\n",
      "Title: \n",
      "\t158 Recently Updated Clinical Trials - actively recruiting healthy volunteers as of 2021-07-15, \n",
      "message: \n",
      "\tDear [User],\n",
      "\n",
      "Exciting news! There are 158 recently updated clinical trials actively seeking healthy volunteers like you as of July 15, 2021. Participating in a clinical trial not only gives you the opportunity to contribute to scientific advancements but also to potentially benefit from cutting-edge treatments or interventions. Your involvement could make a meaningful impact, while also providing you with access to innovative healthcare options. Consider joining a clinical trial today to be part of something bigger and potentially transformative for both yourself and others.\n",
      "\n",
      "Best wishes,\n",
      "[Your Name]\n",
      "\n",
      "\n",
      "Title: \n",
      "\tClinical Trial in LA paying up to $10,050 - 4 day commitment, \n",
      "message: \n",
      "\tHello! I wanted to share an exciting opportunity with you - there's a clinical trial happening in LA that could not only benefit your health but also compensate you up to $10,050 for a 4-day commitment. Participating in a clinical trial is a fantastic way to contribute to medical research while potentially accessing cutting-edge treatments or technologies. Your involvement could make a real difference, both for yourself and for others. If you're curious to learn more or want to take part, feel free to reach out for further information. Your willingness to consider this opportunity speaks volumes about your commitment to advancing healthcare. Keep up the curiosity and willingness to explore new possibilities!\n",
      "\n",
      "\n",
      "Title: \n",
      "\tClinical Trial for healthy Males/Females in San Antonio, Texas - Compensation up to $2,800, \n",
      "message: \n",
      "\tHello there! Are you interested in participating in a clinical trial for healthy males/females in San Antonio, Texas? This opportunity not only allows you to contribute to scientific advancements but also offers compensation of up to $2,800. Your participation could make a meaningful impact on healthcare research while also providing you with financial support. Embrace this chance to be part of progress and potentially receive compensation for your valuable contribution. Take the step towards a brighter future today!\n",
      "\n",
      "\n",
      "Title: \n",
      "\tI am getting laid off. Can anyone share positive stories that might help me?, \n",
      "message: \n",
      "\tI'm sorry to hear about your job situation. It's great that you're considering exploring clinical trial participation during this time. Participating in a clinical trial can offer a sense of purpose, hope, and the opportunity to contribute to groundbreaking medical research. Many participants find that being part of a clinical trial provides a renewed sense of empowerment and optimism for the future. If you're interested, you can potentially access cutting-edge treatments, expert medical care, and additional support through the trial process. Remember, you're not alone, and there are resources available to support you every step of the way. Good luck on this journey, and I hope you find the positive stories and outcomes you're looking for.\n",
      "\n",
      "\n",
      "Title: \n",
      "\tSalary raises and bonuses Worldwide Clinical Trial, \n",
      "message: \n",
      "\tDear [User],\n",
      "\n",
      "I wanted to share an exciting opportunity with you - the Salary Raises and Bonuses Worldwide Clinical Trial! Participating in this trial not only allows you to contribute to scientific advancements but also offers potential financial benefits. Your involvement could potentially lead to salary raises and bonuses, making a positive impact on both your health and your wallet. Your participation could be life-changing not just for you but for many others. If you're interested in learning more about how you can be a part of this innovative opportunity, feel free to reach out for further details.\n",
      "\n",
      "Thank you for considering this opportunity to make a difference while reaping potential rewards!\n",
      "\n",
      "Warm regards.\n",
      "\n",
      "\n",
      "Title: \n",
      "\tCareer transition help, \n",
      "message: \n",
      "\tTitle: Career Transition Help\n",
      "\n",
      "Message:\n",
      "Hello there! If you are considering a career transition, participating in a clinical trial could be a beneficial opportunity for you. Clinical trials not only offer access to cutting-edge treatments and therapies but also provide a platform for personal growth and development. By joining a trial, you can contribute to advancing medical research while gaining valuable experience and potentially discovering new career paths. Embrace this chance to make a positive impact on both your future and healthcare. Your participation matters, and we are here to support you every step of the way. Take that leap towards a brighter tomorrow!\n",
      "\n",
      "\n",
      "Title: \n",
      "\tInformed Consent help, \n",
      "message: \n",
      "\tTitle: Informed Consent Help\n",
      "\n",
      "Message:\n",
      "Hello [User],\n",
      "\n",
      "I want to share some valuable information regarding informed consent in clinical trials and how it can benefit you. By taking part in a clinical trial, you not only contribute to the advancement of medical research but also gain access to potentially life-changing treatments before they are widely available. Your participation could make a significant difference in improving healthcare for countless individuals.\n",
      "\n",
      "It's essential to understand that informed consent ensures you have all the necessary information about the trial, including its purpose, potential risks, and benefits. Your well-being is a top priority, and your consent is crucial every step of the way.\n",
      "\n",
      "If you have any questions or need further assistance with informed consent or clinical trials in general, please feel free to reach out. Remember, your participation matters, and together, we can make a difference in the future of healthcare.\n",
      "\n",
      "Best regards,\n",
      "[Your Name]\n",
      "\n",
      "\n",
      "Title: \n",
      "\tBest role for a physician assistant (PA)? , \n",
      "message: \n",
      "\tHello there! If you're a physician assistant (PA) looking to expand your horizons and make a difference, participating in a clinical trial could be the perfect opportunity for you. As a PA, your expertise and skills can play a vital role in advancing medical research and helping improve healthcare for future generations. By joining a clinical trial, you have the chance to work alongside top medical professionals, gain valuable experience, and contribute to the development of innovative treatments. Your dedication and passion can truly make a difference in the lives of patients. Take the leap and consider getting involved in a clinical trial today! Your impact could be immeasurable.\n",
      "\n",
      "\n",
      "Title: \n",
      "\tWhen incentives pull in both directions, \n",
      "message: \n",
      "\tHello [User's Name], \n",
      "\n",
      "Considering the possibility of participating in a clinical trial can be a significant decision, and we understand that it can feel like incentives are pulling in both directions. It's important to know that by joining a clinical trial, you are not only contributing to scientific advancement but also potentially gaining access to cutting-edge treatments and medications that may not yet be widely available. Your participation could positively impact not only your health but also the health of many others in the future. \n",
      "\n",
      "If you have any questions or concerns about participating in a clinical trial, please feel free to reach out. We are here to provide you with the information and support you need to make an informed decision. Your well-being is our top priority, and we are here to guide you every step of the way.\n",
      "\n",
      "Warm regards,\n",
      "\n",
      "[Your Name]\n",
      "\n",
      "\n",
      "Title: \n",
      "\tA controversial but effective treatment for meth addiction gains ground, \n",
      "message: \n",
      "\tDear [User],\n",
      "\n",
      "I wanted to share exciting news with you about a groundbreaking clinical trial focusing on a controversial yet effective treatment for meth addiction. This innovative approach has been gaining ground and could offer promising results in managing addiction challenges.\n",
      "\n",
      "Participating in this trial could potentially provide you with access to cutting-edge treatment options, personalized care, and the opportunity to contribute to advancements in addiction research. Your involvement could not only benefit you but also countless others struggling with similar issues.\n",
      "\n",
      "Consider taking this opportunity to explore new possibilities for managing your meth addiction and enhancing your overall well-being. Your participation could make a significant difference in shaping the future of addiction treatment.\n",
      "\n",
      "If you're interested or have any questions, feel free to reach out. Your journey towards recovery and improved health matters, and we're here to support you every step of the way.\n",
      "\n",
      "Take care and stay hopeful,\n",
      "\n",
      "[Your Name]\n",
      "\n",
      "\n"
     ]
    }
   ],
   "source": [
    "import re\n",
    "\n",
    "def clean_incomplete_sentence(text):\n",
    "    # Use regex to split the text into sentences\n",
    "    sentences = re.split(r'(?<=[.!?])\\s+', text.strip())\n",
    "    \n",
    "    # check if the last sentence is complete\n",
    "    if not text.strip()[-1] in '.!?':\n",
    "        # if the last sentence is incomplete, remove it\n",
    "        sentences = sentences[:-1]\n",
    "    \n",
    "    return ' '.join(sentences)\n",
    "\n",
    "\n",
    "for i in range(len(messages)):\n",
    "    idx = positive_sentiment_data[i]\n",
    "    title = scraped_data[idx]['title']\n",
    "    message = messages[i]\n",
    "\n",
    "    print(f\"Title: \\n\\t{title}, \\nmessage: \\n\\t{messages[i]}\\n\\n\")\n"
   ]
  }
 ],
 "metadata": {
  "kernelspec": {
   "display_name": "base",
   "language": "python",
   "name": "python3"
  },
  "language_info": {
   "codemirror_mode": {
    "name": "ipython",
    "version": 3
   },
   "file_extension": ".py",
   "mimetype": "text/x-python",
   "name": "python",
   "nbconvert_exporter": "python",
   "pygments_lexer": "ipython3",
   "version": "3.7.4"
  }
 },
 "nbformat": 4,
 "nbformat_minor": 2
}
